{
  "cells": [
    {
      "cell_type": "markdown",
      "metadata": {
        "id": "alIo5cDx6V-d"
      },
      "source": [
        "# **ME: Benchmarking exercise for loop ordering**\n"
      ]
    },
    {
      "cell_type": "markdown",
      "metadata": {
        "id": "XwR_eJxa3u-B"
      },
      "source": [
        "The code below implements a simple 3-nested-loop algorithm for matrix-matrix multiplication of two n-by-n matrices, containing random float elements. Input the value of `n` below to vary the size of the input matrices.\n",
        "\n",
        "For this benchmarking exercise, the objectives are:\n",
        "*   to implement various loop ordering for matrix-matrix multiplication\n",
        "*   to observe the performance impact of loop ordering on small, medium, and large matrices\n",
        "\n",
        "Using the provided code below, please do the following:\n",
        "1.   Fill in the indicated portions in the code below with the same 3-nested-loop MMM algorithm, but with varying loop ordering\n",
        "2.   Decide on a at least three different values for matrix sizes (small, medium, large). Choose values in the hundreds (or larger) range for the large matrix\n",
        "3. Run the code at least 3 times per matrix size (note that the large, and perhaps medium, matrices will take some time to run so be patient!) and record the resulting runtimes\n",
        "4. Answer the questions below and upload your answers to the UVLe submission bin.\n",
        "5. **BONUS** [optional] The performance will be different if the code is run on a different machine. Try running the code on your own machine (varying machines) and include your results in the analysis to answer the questions below\n"
      ]
    },
    {
      "cell_type": "code",
      "execution_count": null,
      "metadata": {
        "colab": {
          "base_uri": "https://localhost:8080/"
        },
        "id": "BywC4yh46LM7",
        "outputId": "6351d8fd-e1a8-4e92-ec25-f742a25d6fe1"
      },
      "outputs": [
        {
          "name": "stdout",
          "output_type": "stream",
          "text": [
            "Matrix size is 10-by-10\n",
            "ijk completed in 0.000540 seconds\n"
          ]
        }
      ],
      "source": [
        "#!/usr/bin/env python\n",
        "\n",
        "from time import time\n",
        "import random\n",
        "import copy\n",
        "\n",
        "random.seed(0)\n",
        "\n",
        "#@title Matrix size (n-by-n)\n",
        "n = 10 #@param {type:\"integer\"}\n",
        "\n",
        "def init_rand(mat,n):\n",
        "  for x in range(n):\n",
        "    new = []\n",
        "    for y in range(n):\n",
        "      new.append(random.random())\n",
        "    mat.append(new)\n",
        "\n",
        "def init_matrix(mat,n,value):\n",
        "  for x in range(n):\n",
        "    new = []\n",
        "    for y in range(n):\n",
        "      new.append(value)\n",
        "    mat.append(new)\n",
        "\n",
        "def fill_zero(mat,n):\n",
        "  for x in range(n):\n",
        "    for y in range(n):\n",
        "     mat[x][y] = 0\n",
        "\n",
        "A = []\n",
        "B = []\n",
        "C = []\n",
        "print(\"Matrix size is %d-by-%d\" % (n,n))\n",
        "\n",
        "init_rand(A,n)\n",
        "init_rand(B,n)\n",
        "init_matrix(C,n,0)\n",
        "\n",
        "ctmp = copy.deepcopy(C)\n",
        "t = time()\n",
        "for i in range(n):\n",
        "  for j in range(n):\n",
        "    for k in range(n):\n",
        "      ctmp[i][j] = ctmp[i][j] + A[i][k]*B[k][j]\n",
        "runtime = time() - t\n",
        "print(\"%f\" % (runtime))\n",
        "\n",
        "### PLEASE INPUT YOUR kji CODE HERE ###\n",
        "ctmp = copy.deepcopy(C)\n",
        "t = time()\n",
        "for k in range(n):\n",
        "  for j in range(n):\n",
        "    for i in range(n):\n",
        "      ctmp[i][j] = ctmp[i][j] + A[i][k]*B[k][j]\n",
        "runtime = time() - t\n",
        "print(\"%f\" % (runtime))\n",
        "\n",
        "### PLEASE INPUT YOUR jik CODE HERE ###\n",
        "ctmp = copy.deepcopy(C)\n",
        "t = time()\n",
        "for j in range(n):\n",
        "  for i in range(n):\n",
        "    for k in range(n):\n",
        "      ctmp[i][j] = ctmp[i][j] + A[i][k]*B[k][j]\n",
        "runtime = time() - t\n",
        "print(\"%f\" % (runtime))\n",
        "\n",
        "### PLEASE INPUT YOUR jki CODE HERE ###\n",
        "ctmp = copy.deepcopy(C)\n",
        "t = time()\n",
        "for j in range(n):\n",
        "  for k in range(n):\n",
        "    for i in range(n):\n",
        "      ctmp[i][j] = ctmp[i][j] + A[i][k]*B[k][j]\n",
        "runtime = time() - t\n",
        "print(\"%f\" % (runtime))\n",
        "\n",
        "### PLEASE INPUT YOUR kij CODE HERE ###\n",
        "ctmp = copy.deepcopy(C)\n",
        "t = time()\n",
        "for k in range(n):\n",
        "  for i in range(n):\n",
        "    for j in range(n):\n",
        "      ctmp[i][j] = ctmp[i][j] + A[i][k]*B[k][j]\n",
        "runtime = time() - t\n",
        "print(\"%f\" % (runtime))\n",
        "\n",
        "### PLEASE INPUT YOUR ikj CODE HERE ###\n",
        "ctmp = copy.deepcopy(C)\n",
        "t = time()\n",
        "for i in range(n):\n",
        "  for k in range(n):\n",
        "    for j in range(n):\n",
        "      ctmp[i][j] = ctmp[i][j] + A[i][k]*B[k][j]\n",
        "runtime = time() - t\n",
        "print(\"%f\" % (runtime))"
      ]
    },
    {
      "cell_type": "markdown",
      "metadata": {
        "id": "0IuVBZTd_D6V"
      },
      "source": [
        "# ME Questions\n",
        "1. What matrix sizes did you choose?\n",
        "2. How many times did you run the code per matrix size?\n",
        "3. List the runtimes you recorded per matrix size (you can organize your results into a table)\n",
        "4. What are the average runtimes per matrix size\n",
        "5. What can you say about how the runtime is affected by matrix size? What do you think are the reasons behind slowness due to matrix size?\n",
        "6. Are there any loop orderings that consistently run slower than the others?\n",
        "7. Is the slow performance observable for all the matrix sizes?\n",
        "What do you think are the reasons behind the slower performance with changing loop ordering?\n",
        "8. **BONUS** Google Colab provides virtualized resources for you to run code on Google's machines. Read up a bit on how Google Colab runs your code and describe how you think the architecture of Colab affects the performance of the code"
      ]
    }
  ],
  "metadata": {
    "colab": {
      "provenance": []
    },
    "kernelspec": {
      "display_name": "Python 3",
      "name": "python3"
    },
    "language_info": {
      "name": "python"
    }
  },
  "nbformat": 4,
  "nbformat_minor": 0
}
